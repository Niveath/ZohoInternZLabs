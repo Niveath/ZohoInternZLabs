{
 "cells": [
  {
   "cell_type": "code",
   "execution_count": null,
   "id": "1377e2a4-141a-4327-90fc-21236137aeef",
   "metadata": {},
   "outputs": [],
   "source": [
    "import os\n",
    "import random\n",
    "import shutil\n",
    "import time\n",
    "from tqdm import tqdm\n",
    "import pytesseract\n",
    "import pandas as pd\n",
    "from PIL import Image as PILImage\n",
    "from wand.image import Image as WandImage\n",
    "import cv2\n",
    "from pytesseract import Output"
   ]
  },
  {
   "cell_type": "code",
   "execution_count": null,
   "id": "ffd7b6c6-03ff-4bad-9aa8-99465e379c0e",
   "metadata": {},
   "outputs": [],
   "source": [
    "def generate_image_sample(input_image_folder, output_image_folder, num_samples=20):\n",
    "    os.makedirs(output_images_folder, exist_ok=True)\n",
    "\n",
    "    input_images_list = os.listdir(input_images_folder)\n",
    "    random_selection = random.sample(input_images_list, num_samples)\n",
    "    \n",
    "    for index, image_name in enumerate(random_selection):\n",
    "        input_path = os.path.join(input_images_folder, image_name)\n",
    "        output_path = os.path.join(output_images_folder, f\"{index+1}.png\")\n",
    "        shutil.move(input_path, output_path)"
   ]
  },
  {
   "cell_type": "code",
   "execution_count": null,
   "id": "4418c382-54c8-4061-91d3-0c42fbf3dc7f",
   "metadata": {},
   "outputs": [],
   "source": [
    "def generate_character_bounding_boxes(input_image_folder, result_image_folder):\n",
    "    os.makedirs(result_image_folder, exist_ok=True)\n",
    "    \n",
    "    image_list = os.listdir(input_image_folder)\n",
    "    \n",
    "    for image_name in image_list:\n",
    "        image_path = os.path.join(input_image_folder, image_name)\n",
    "        bb_image_path = os.path.join(result_image_folder, image_name)\n",
    "        \n",
    "        image = cv2.imread(image_path)\n",
    "        image_height = image.shape[0]\n",
    "        image_width = image.shape[1]\n",
    "    \n",
    "        image_boxes = pytesseract.image_to_boxes(image, output_type=Output.DICT)\n",
    "        if(\"char\" not in image_boxes.keys()): \n",
    "            continue\n",
    "            \n",
    "        num_boxes = len(image_boxes[\"char\"])\n",
    "        for i in range(num_boxes):\n",
    "            (x1, y2, x2, y1) = (image_boxes['left'][i], image_boxes['top'][i], image_boxes['right'][i], image_boxes['bottom'][i])\n",
    "            cv2.rectangle(image, (x1, image_height - y1), (x2, image_height - y2) , (0,255,0), 0)\n",
    "            \n",
    "        cv2.imwrite(bb_image_path, image)"
   ]
  },
  {
   "cell_type": "code",
   "execution_count": null,
   "id": "184d58fc-79e1-4163-a4ed-04f823000478",
   "metadata": {},
   "outputs": [],
   "source": [
    "def generate_word_bounding_boxes(input_image_folder, result_image_folder):\n",
    "    os.makedirs(result_image_folder, exist_ok=True)\n",
    "    \n",
    "    image_list = os.listdir(input_image_folder)\n",
    "    \n",
    "    for image_name in image_list:\n",
    "        image_path = os.path.join(input_image_folder, image_name)\n",
    "        bb_image_path = os.path.join(result_image_folder, image_name)\n",
    "        \n",
    "        image = cv2.imread(image_path)\n",
    "        image_height = image.shape[0]\n",
    "        image_width = image.shape[1]\n",
    "    \n",
    "        image_boxes = pytesseract.image_to_data(image, output_type=Output.DICT)\n",
    "        \n",
    "        if(\"text\" not in image_boxes.keys()): \n",
    "            continue\n",
    "            \n",
    "        num_boxes = len(image_boxes[\"text\"])\n",
    "        for i in range(num_boxes):\n",
    "            if(image_boxes[\"conf\"][i] != -1):\n",
    "                (x, y, w, h) = (image_boxes['left'][i], image_boxes['top'][i], image_boxes['width'][i], image_boxes['height'][i])\n",
    "                cv2.rectangle(image, (x, y), (x + w, y + h) , (0,255,0), 1)\n",
    "            \n",
    "        cv2.imwrite(bb_image_path, image)"
   ]
  },
  {
   "cell_type": "code",
   "execution_count": null,
   "id": "728cb48a-8c2c-4948-a62d-b7da4359d012",
   "metadata": {},
   "outputs": [],
   "source": [
    "def add_noise(input_image_folder, result_image_folder):\n",
    "    images_list = os.listdir(input_image_folder)\n",
    "\n",
    "    os.makedirs(result_image_folder, exist_ok=True)\n",
    "\n",
    "    for image_name in images_list:\n",
    "        image_path = os.path.join(input_image_folder, image_name)\n",
    "        noisy_image_path = os.path.join(result_image_folder, image_name)\n",
    "\n",
    "        with WandImage(filename=image_path) as image:\n",
    "            image.gaussian_blur(sigma=1.5)\n",
    "            image.save(filename=noisy_image_path)"
   ]
  },
  {
   "cell_type": "code",
   "execution_count": null,
   "id": "afd0c354-b555-464b-bea6-b732d02c7891",
   "metadata": {},
   "outputs": [],
   "source": [
    "def get_text(folder, name):\n",
    "    image_path = os.path.join(folder, name)\n",
    "    \n",
    "    image = cv2.imread(image_path)\n",
    "    image_boxes = pytesseract.image_to_data(image, output_type=Output.DICT)\n",
    "    print(image_boxes.keys())\n",
    "    \n",
    "    return image_boxes[\"text\"]\n",
    "\n",
    "def calculate_edit_distance(word1, word2):\n",
    "    n = len(word1)\n",
    "    m = len(word2)\n",
    "\n",
    "    prev = [j for j in range(m+1)]\n",
    "    curr = [0] * (m+1)\n",
    "\n",
    "    for i in range(1, n+1):\n",
    "        curr[0] = i\n",
    "        for j in range(1, m+1):\n",
    "            if word1[i-1] == word2[j-1]:\n",
    "                curr[j] = prev[j-1]\n",
    "            else:\n",
    "                mn = min(1 + prev[j], 1 + curr[j-1])\n",
    "                curr[j] = min(mn, 1 + prev[j-1])\n",
    "        prev = curr.copy()\n",
    "\n",
    "    return prev[m]"
   ]
  },
  {
   "cell_type": "code",
   "execution_count": null,
   "id": "5f1332fc-8574-4b4f-b560-c90b38d2040c",
   "metadata": {},
   "outputs": [],
   "source": [
    "def compare_results(png_folder, jpeg_org_folder, jpeg_noise_folder, jpeg_org_sr_folder, jpeg_noise_sr_folder, csv_folder, num_images=None):\n",
    "    os.makedirs(csv_folder, exist_ok=True)\n",
    "    wrong_detections_folder = os.path.join(csv_folder, \"wrong_detection\")\n",
    "    os.makedirs(wrong_detections_folder, exist_ok=True)\n",
    "\n",
    "    if(num_images is None):\n",
    "        num_images = len(os.listdir(png_folder))\n",
    "    \n",
    "    for i in tqdm(range(1, num_images + 1)):\n",
    "        png_name = f\"{i}.png\"\n",
    "        jpeg_name = f\"{i}.jpeg\"\n",
    "        \n",
    "        png_text = get_text(png_folder, png_name)\n",
    "        jpeg_org_text = get_text(jpeg_org_folder, jpeg_name)\n",
    "        jpeg_noise_text = get_text(jpeg_noise_folder, jpeg_name)\n",
    "        jpeg_org_sr_text = get_text(jpeg_org_sr_folder, jpeg_name)\n",
    "        jpeg_noise_sr_text = get_text(jpeg_noise_sr_folder, jpeg_name)\n",
    "        zipped_text = zip(png_text, jpeg_org_text, jpeg_noise_text, jpeg_org_sr_text, jpeg_noise_sr_text)\n",
    "\n",
    "        cmp_dict = {\n",
    "            \"png(gt)\" : [],\n",
    "            \"jpeg_org\" : [],\n",
    "            \"edit_dist_org\" : [],\n",
    "            \"jpeg_noise\" : [],\n",
    "            \"edit_dist_noise\" : [],\n",
    "            \"jpeg_sr_org\" : [],\n",
    "            \"edit_dist_sr_org\" : [],\n",
    "            \"jpeg_sr_noise\" : [],\n",
    "            \"edit_dist_sr_noise\" : [],\n",
    "        }\n",
    "\n",
    "        for png_word, jpeg_org_word, jpeg_noise_word, jpeg_sr_org_word, jpeg_sr_noise_word in zipped_text:\n",
    "            cmp_dict[\"png(gt)\"].append(png_word)\n",
    "            cmp_dict[\"jpeg_org\"].append(jpeg_org_word)\n",
    "            cmp_dict[\"jpeg_noise\"].append(jpeg_noise_word)\n",
    "            cmp_dict[\"jpeg_sr_org\"].append(jpeg_sr_org_word)\n",
    "            cmp_dict['jpeg_sr_noise'].append(jpeg_sr_noise_word)\n",
    "\n",
    "            cmp_dict[\"edit_dist_org\"].append(calculate_edit_distance(png_word, jpeg_org_word))\n",
    "            cmp_dict[\"edit_dist_noise\"].append(calculate_edit_distance(png_word, jpeg_noise_word))\n",
    "            cmp_dict[\"edit_dist_sr_org\"].append(calculate_edit_distance(png_word, jpeg_sr_org_word))\n",
    "            cmp_dict[\"edit_dist_sr_noise\"].append(calculate_edit_distance(png_word, jpeg_sr_noise_word))\n",
    "\n",
    "            \n",
    "        cmp_df = pd.DataFrame.from_dict(cmp_dict)\n",
    "        csv_path = os.path.join(csv_folder, f\"{i}.csv\")\n",
    "        cmp_df.to_csv(csv_path, index=False)\n",
    "        error_df = cmp_df.loc[((cmp_df[\"edit_dist_org\"] != 0) | (cmp_df[\"edit_dist_noise\"] != 0) | (cmp_df[\"edit_dist_sr_org\"] != 0) | (cmp_df[\"edit_dist_sr_noise\"] != 0))]\n",
    "        error_csv_path = os.path.join(wrong_detections_folder, f\"{i}.csv\")\n",
    "        error_df.to_csv(error_csv_path, index=False)"
   ]
  },
  {
   "cell_type": "markdown",
   "id": "862ddce7-6353-43bc-a418-24fe10d5608e",
   "metadata": {},
   "source": [
    "# Processing PNG images"
   ]
  },
  {
   "cell_type": "code",
   "execution_count": null,
   "id": "84e9a460-c823-42ee-9b4f-594af1e69b5c",
   "metadata": {},
   "outputs": [],
   "source": [
    "# Add noise to the sampled images\n",
    "\n",
    "current_dir = os.getcwd()\n",
    "original_image_folder = os.path.join(current_dir, \"screenshots/png/images/lr_images_original\")\n",
    "noisy_image_folder = os.path.join(current_dir, \"screenshots/png/images/lr_images_noise\")\n",
    "\n",
    "add_noise(original_image_folder, noisy_image_folder)"
   ]
  },
  {
   "cell_type": "markdown",
   "id": "415f135d-ec94-4d61-b76b-998be49524bd",
   "metadata": {},
   "source": [
    "# Generating character-level bounding boxes"
   ]
  },
  {
   "cell_type": "code",
   "execution_count": null,
   "id": "976beb16-526c-4059-a847-f6a56cc12c89",
   "metadata": {},
   "outputs": [],
   "source": [
    "# Run Tesseract on original images to get character-level bounding boxes\n",
    "\n",
    "lr_image_folder = os.path.join(current_dir, \"screenshots/png/images/lr_images_original\")\n",
    "lr_bb_image_folder = os.path.join(current_dir, \"screenshots/png/images_char_bb/lr_images_original_bb\")\n",
    "\n",
    "generate_character_bounding_boxes(lr_image_folder, lr_bb_image_folder)"
   ]
  },
  {
   "cell_type": "code",
   "execution_count": null,
   "id": "a0a192be-b31d-47be-b559-6fe67a5bfb9d",
   "metadata": {},
   "outputs": [],
   "source": [
    "# Run Tesseract on noise-added original images to get character-level bounding boxes\n",
    "\n",
    "lr_image_folder = os.path.join(current_dir, \"screenshots/png/images/lr_images_noise\")\n",
    "lr_bb_image_folder = os.path.join(current_dir, \"screenshots/png/images_char_bb/lr_images_noise_bb\")\n",
    "\n",
    "generate_character_bounding_boxes(lr_image_folder, lr_bb_image_folder)"
   ]
  },
  {
   "cell_type": "code",
   "execution_count": null,
   "id": "e30e1402-fb30-48de-991e-7e04733bd100",
   "metadata": {},
   "outputs": [],
   "source": [
    "# Run Tesseract on super-resolution images to get character-level bounding boxes\n",
    "\n",
    "current_dir = os.getcwd()\n",
    "sr_image_folder = os.path.join(current_dir, \"screenshots/png/images/sr_images_original\")\n",
    "sr_bb_image_folder = os.path.join(current_dir, \"screenshots/png/images_char_bb/sr_images_original_bb\")\n",
    "\n",
    "generate_character_bounding_boxes(sr_image_folder, sr_bb_image_folder)"
   ]
  },
  {
   "cell_type": "code",
   "execution_count": null,
   "id": "90481d66-fbac-4aac-8df2-87339fcf0b4b",
   "metadata": {},
   "outputs": [],
   "source": [
    "# Run Tesseract on super-resolution noise-added images to get character-level bounding boxes\n",
    "\n",
    "current_dir = os.getcwd()\n",
    "sr_image_folder = os.path.join(current_dir, \"screenshots/png/images/sr_images_noise\")\n",
    "sr_bb_image_folder = os.path.join(current_dir, \"screenshots/png/images_char_bb/sr_images_noise_bb\")\n",
    "\n",
    "generate_character_bounding_boxes(sr_image_folder, sr_bb_image_folder)"
   ]
  },
  {
   "cell_type": "markdown",
   "id": "3b55e6af-90bd-45b6-badc-0315155ebb92",
   "metadata": {},
   "source": [
    "# Generating word-level bounding boxes"
   ]
  },
  {
   "cell_type": "code",
   "execution_count": null,
   "id": "25e2736b-b59e-4ebf-aae8-8b18b42be181",
   "metadata": {},
   "outputs": [],
   "source": [
    "# Run Tesseract on original images to get word-level bounding boxes\n",
    "\n",
    "lr_image_folder = os.path.join(current_dir, \"screenshots/png/images/lr_images_original\")\n",
    "lr_bb_image_folder = os.path.join(current_dir, \"screenshots/png/images_word_bb/lr_images_original_bb\")\n",
    "\n",
    "generate_word_bounding_boxes(lr_image_folder, lr_bb_image_folder)"
   ]
  },
  {
   "cell_type": "code",
   "execution_count": null,
   "id": "9d6f79a5-a98b-4d1f-b9ae-e35f8279cd1e",
   "metadata": {},
   "outputs": [],
   "source": [
    "# Run Tesseract on noise-added original images to get word-level bounding boxes\n",
    "\n",
    "lr_image_folder = os.path.join(current_dir, \"screenshots/png/images/lr_images_noise\")\n",
    "lr_bb_image_folder = os.path.join(current_dir, \"screenshots/png/images_word_bb/lr_images_noise_bb\")\n",
    "\n",
    "generate_word_bounding_boxes(lr_image_folder, lr_bb_image_folder)"
   ]
  },
  {
   "cell_type": "code",
   "execution_count": null,
   "id": "b1c39de8-6a01-4e1a-8f55-b08b278053cb",
   "metadata": {},
   "outputs": [],
   "source": [
    "# Run Tesseract on super-resolution images to get word-level bounding boxes\n",
    "\n",
    "current_dir = os.getcwd()\n",
    "sr_image_folder = os.path.join(current_dir, \"screenshots/png/images/sr_images_original\")\n",
    "sr_bb_image_folder = os.path.join(current_dir, \"screenshots/png/images_word_bb/sr_images_original_bb\")\n",
    "\n",
    "generate_word_bounding_boxes(sr_image_folder, sr_bb_image_folder)"
   ]
  },
  {
   "cell_type": "code",
   "execution_count": null,
   "id": "833bccf6-d77d-4465-9054-e44a0105c020",
   "metadata": {},
   "outputs": [],
   "source": [
    "# Run Tesseract on super-resolution noise-added images to get word-level bounding boxes\n",
    "\n",
    "current_dir = os.getcwd()\n",
    "sr_image_folder = os.path.join(current_dir, \"screenshots/png/images/sr_images_noise\")\n",
    "sr_bb_image_folder = os.path.join(current_dir, \"screenshots/png/images_word_bb/sr_images_noise_bb\")\n",
    "\n",
    "generate_word_bounding_boxes(sr_image_folder, sr_bb_image_folder)"
   ]
  },
  {
   "cell_type": "markdown",
   "id": "99537cc6-c8c1-405c-90d5-ba8f1cb752ca",
   "metadata": {},
   "source": [
    "# Processing JPEG images"
   ]
  },
  {
   "cell_type": "code",
   "execution_count": null,
   "id": "ab136533-453b-4ca2-8510-f8215f67b540",
   "metadata": {},
   "outputs": [],
   "source": [
    "# Add noise to the sampled images\n",
    "\n",
    "current_dir = os.getcwd()\n",
    "original_image_folder = os.path.join(current_dir, \"screenshots/jpeg/images/lr_images_original\")\n",
    "noisy_image_folder = os.path.join(current_dir, \"screenshots/jpeg/images/lr_images_noise\")\n",
    "\n",
    "add_noise(original_image_folder, noisy_image_folder)"
   ]
  },
  {
   "cell_type": "markdown",
   "id": "66fd90ac-0091-4dae-89a8-5df33ecb0bae",
   "metadata": {},
   "source": [
    "# Generate character-level bounding boxes"
   ]
  },
  {
   "cell_type": "code",
   "execution_count": null,
   "id": "c93728cc-b98d-411c-85ae-8311c0979824",
   "metadata": {},
   "outputs": [],
   "source": [
    "# Run Tesseract on original images to get character-level bounding boxes\n",
    "\n",
    "lr_image_folder = os.path.join(current_dir, \"screenshots/jpeg/images/lr_images_original\")\n",
    "lr_bb_image_folder = os.path.join(current_dir, \"screenshots/jpeg/images_bb/lr_images_original_bb\")\n",
    "\n",
    "generate_bounding_boxes(lr_image_folder, lr_bb_image_folder)"
   ]
  },
  {
   "cell_type": "code",
   "execution_count": null,
   "id": "49e366ff-6306-4f97-8d4d-bb7e9df6dacc",
   "metadata": {},
   "outputs": [],
   "source": [
    "# Run Tesseract on noise-added original images to get character-level bounding boxes\n",
    "\n",
    "lr_image_folder = os.path.join(current_dir, \"screenshots/jpeg/images/lr_images_noise\")\n",
    "lr_bb_image_folder = os.path.join(current_dir, \"screenshots/jpeg/images_bb/lr_images_noise_bb\")\n",
    "\n",
    "generate_bounding_boxes(lr_image_folder, lr_bb_image_folder)"
   ]
  },
  {
   "cell_type": "code",
   "execution_count": null,
   "id": "84ab5d25-7742-4821-93b5-9e7fa69b6eb6",
   "metadata": {},
   "outputs": [],
   "source": [
    "# Run Tesseract on super-resolution images to get character-level bounding boxes\n",
    "\n",
    "current_dir = os.getcwd()\n",
    "sr_image_folder = os.path.join(current_dir, \"screenshots/jpeg/images/sr_images_original\")\n",
    "sr_bb_image_folder = os.path.join(current_dir, \"screenshots/jpeg/images_bb/sr_images_original_bb\")\n",
    "\n",
    "generate_bounding_boxes(sr_image_folder, sr_bb_image_folder)"
   ]
  },
  {
   "cell_type": "code",
   "execution_count": null,
   "id": "91f0a1a2-6c26-42bf-9687-2dfd3036acc6",
   "metadata": {},
   "outputs": [],
   "source": [
    "# Run Tesseract on super-resolution noise-added images to get character-level bounding boxes\n",
    "\n",
    "current_dir = os.getcwd()\n",
    "sr_image_folder = os.path.join(current_dir, \"screenshots/jpeg/images/sr_images_noise\")\n",
    "sr_bb_image_folder = os.path.join(current_dir, \"screenshots/jpeg/images_bb/sr_images_noise_bb\")\n",
    "\n",
    "generate_bounding_boxes(sr_image_folder, sr_bb_image_folder)"
   ]
  },
  {
   "cell_type": "markdown",
   "id": "a80fe6de-3efc-464f-bd20-9b9205244c5e",
   "metadata": {},
   "source": [
    "# Generate word-level character boxes"
   ]
  },
  {
   "cell_type": "code",
   "execution_count": null,
   "id": "c4da4cf8-a240-42ef-81e2-d0a2ea167a0d",
   "metadata": {},
   "outputs": [],
   "source": [
    "# Run Tesseract on original images to get word-level bounding boxes\n",
    "\n",
    "lr_image_folder = os.path.join(current_dir, \"screenshots/jpeg/images/lr_images_original\")\n",
    "lr_bb_image_folder = os.path.join(current_dir, \"screenshots/jpeg/images_word_bb/lr_images_original_bb\")\n",
    "\n",
    "generate_word_bounding_boxes(lr_image_folder, lr_bb_image_folder)"
   ]
  },
  {
   "cell_type": "code",
   "execution_count": null,
   "id": "f402698b-76e6-43b9-891d-1fde7e06a3fc",
   "metadata": {},
   "outputs": [],
   "source": [
    "# Run Tesseract on noise-added original images to get word-level bounding boxes\n",
    "\n",
    "lr_image_folder = os.path.join(current_dir, \"screenshots/jpeg/images/lr_images_noise\")\n",
    "lr_bb_image_folder = os.path.join(current_dir, \"screenshots/jpeg/images_word_bb/lr_images_noise_bb\")\n",
    "\n",
    "generate_word_bounding_boxes(lr_image_folder, lr_bb_image_folder)"
   ]
  },
  {
   "cell_type": "code",
   "execution_count": null,
   "id": "f357fec0-d17d-4456-ba90-34aeb845b181",
   "metadata": {},
   "outputs": [],
   "source": [
    "# Run Tesseract on super-resolution images to get word-level bounding boxes\n",
    "\n",
    "current_dir = os.getcwd()\n",
    "sr_image_folder = os.path.join(current_dir, \"screenshots/jpeg/images/sr_images_original\")\n",
    "sr_bb_image_folder = os.path.join(current_dir, \"screenshots/jpeg/images_word_bb/sr_images_original_bb\")\n",
    "\n",
    "generate_word_bounding_boxes(sr_image_folder, sr_bb_image_folder)"
   ]
  },
  {
   "cell_type": "code",
   "execution_count": null,
   "id": "8f0fcb92-7427-41fa-be2b-e9a02dab12c7",
   "metadata": {},
   "outputs": [],
   "source": [
    "# Run Tesseract on super-resolution noise-added images to get word-level bounding boxes\n",
    "\n",
    "current_dir = os.getcwd()\n",
    "sr_image_folder = os.path.join(current_dir, \"screenshots/jpeg/images/sr_images_noise\")\n",
    "sr_bb_image_folder = os.path.join(current_dir, \"screenshots/jpeg/images_word_bb/sr_images_noise_bb\")\n",
    "\n",
    "generate_word_bounding_boxes(sr_image_folder, sr_bb_image_folder)"
   ]
  },
  {
   "cell_type": "code",
   "execution_count": null,
   "id": "60bf04b5-4553-46ed-85bd-83780f010f04",
   "metadata": {},
   "outputs": [],
   "source": [
    "current_dir = os.getcwd()\n",
    "png_folder = os.path.join(current_dir, \"screenshots/png/images/lr_images_original\")\n",
    "jpeg_org_folder = os.path.join(current_dir, \"screenshots/jpeg/images/lr_images_original\")\n",
    "jpeg_noise_folder = os.path.join(current_dir, \"screenshots/jpeg/images/lr_images_noise\")\n",
    "jpeg_org_sr_folder = os.path.join(current_dir, \"screenshots/jpeg/images/sr_images_original\")\n",
    "jpeg_noise_sr_folder = os.path.join(current_dir, \"screenshots/jpeg/images/sr_images_noise\")\n",
    "csv_folder = os.path.join(current_dir, \"screenshots/comparison_csv\")\n",
    "\n",
    "compare_results(png_folder, jpeg_org_folder, jpeg_noise_folder, jpeg_org_sr_folder, jpeg_noise_sr_folder, csv_folder)"
   ]
  }
 ],
 "metadata": {
  "kernelspec": {
   "display_name": "Python 3 (ipykernel)",
   "language": "python",
   "name": "python3"
  },
  "language_info": {
   "codemirror_mode": {
    "name": "ipython",
    "version": 3
   },
   "file_extension": ".py",
   "mimetype": "text/x-python",
   "name": "python",
   "nbconvert_exporter": "python",
   "pygments_lexer": "ipython3",
   "version": "3.10.6"
  }
 },
 "nbformat": 4,
 "nbformat_minor": 5
}
