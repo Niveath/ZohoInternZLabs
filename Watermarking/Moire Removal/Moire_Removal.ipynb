{
  "cells": [
    {
      "cell_type": "markdown",
      "source": [
        "# MopNet"
      ],
      "metadata": {
        "id": "tqs0obDd1qQc"
      }
    },
    {
      "cell_type": "code",
      "execution_count": null,
      "metadata": {
        "id": "gK5RQe-k7uhb"
      },
      "outputs": [],
      "source": [
        "from IPython.display import clear_output"
      ]
    },
    {
      "cell_type": "code",
      "execution_count": null,
      "metadata": {
        "id": "6rwWGZ4u_XB8"
      },
      "outputs": [],
      "source": [
        "! pip install scikit-image visdom dominate\n",
        "clear_output()"
      ]
    },
    {
      "cell_type": "code",
      "execution_count": null,
      "metadata": {
        "id": "GLix3O3t6eiM"
      },
      "outputs": [],
      "source": [
        "# Classifier\n",
        "! gdown 1gJogwEx8S38VLmPSBhUhVOHpIJ5A-mNX\n",
        "! gdown 1shTWNMb4h8BAobi3gXXAZVO32AgcpaB2\n",
        "clear_output()"
      ]
    },
    {
      "cell_type": "code",
      "execution_count": null,
      "metadata": {
        "id": "3uVyqhXp6ekt"
      },
      "outputs": [],
      "source": [
        "# Model\n",
        "! gdown 10wnPt_qlw3Eq3ik-OeNue8qSBl38wmKn\n",
        "! gdown 1HD8LGtj2fH5aCSpT9PhAFMkKb9JtvRk9\n",
        "clear_output()"
      ]
    },
    {
      "cell_type": "code",
      "execution_count": null,
      "metadata": {
        "id": "zD4IW5Gn7ljs"
      },
      "outputs": [],
      "source": [
        "# Testing data\n",
        "! gdown 11Bzex3UBf09stC4l_ixdiaBtK2cBfKhW\n",
        "! unzip test.zip\n",
        "clear_output()\n",
        "! rm -rf test.zip\n",
        "clear_output()"
      ]
    },
    {
      "cell_type": "code",
      "source": [
        "! unzip mopnet_only_test.zip\n",
        "! rm mopnet_only_test.zip\n",
        "! mv /content/MopNet/* /content/\n",
        "clear_output()"
      ],
      "metadata": {
        "id": "n5kA4bqPFpe1"
      },
      "execution_count": null,
      "outputs": []
    },
    {
      "cell_type": "code",
      "source": [
        "! mkdir /content/test/source /content/test/target\n",
        "! mv /content/test/thin_source/* /content/test/source/\n",
        "! mv /content/test/thin_target/* /content/test/target/\n",
        "! rm -rf /content/test/thin_source /content/test/thin_target\n",
        "clear_output()"
      ],
      "metadata": {
        "id": "TTU3YeD9F44D"
      },
      "execution_count": null,
      "outputs": []
    },
    {
      "cell_type": "code",
      "execution_count": null,
      "metadata": {
        "id": "6HRGlqd-6end"
      },
      "outputs": [],
      "source": [
        "! mkdir classifier mopnet results results/d results/o\n",
        "! mv /content/*_epoch_95.pth /content/classifier/\n",
        "! mv /content/*_epoch_150.pth /content/mopnet/\n",
        "clear_output()"
      ]
    },
    {
      "cell_type": "code",
      "execution_count": null,
      "metadata": {
        "id": "uWXpYhXA6esv"
      },
      "outputs": [],
      "source": [
        "! python test.py --dataroot /content/test  --netG '/content/mopnet/netG_epoch_150.pth' --netE \"/content/mopnet/netEdge_epoch_150.pth\" --batchSize 2  --originalSize  256 --imageSize 256 --image_path \"results\" --write 1"
      ]
    },
    {
      "cell_type": "code",
      "source": [
        "! zip results.zip -r results"
      ],
      "metadata": {
        "id": "W1kzJVXPJckg"
      },
      "execution_count": null,
      "outputs": []
    },
    {
      "cell_type": "markdown",
      "source": [
        "# ESDNet"
      ],
      "metadata": {
        "id": "2esAJqRzrjnu"
      }
    },
    {
      "cell_type": "code",
      "source": [
        "from IPython.display import clear_output"
      ],
      "metadata": {
        "id": "89xJLP03wSaO"
      },
      "execution_count": null,
      "outputs": []
    },
    {
      "cell_type": "code",
      "source": [
        "# Download model(Original)\n",
        "! git clone https://github.com/CVMI-Lab/UHDM.git"
      ],
      "metadata": {
        "id": "8XENKp6mrtey"
      },
      "execution_count": null,
      "outputs": []
    },
    {
      "cell_type": "code",
      "source": [
        "# Download model\n",
        "! gdown 1bw6x2oCU8F5f9C55Tmthsc3Yijklt0Ij\n",
        "! unzip UHDM.zip\n",
        "! rm UHDM.zip\n",
        "clear_output()"
      ],
      "metadata": {
        "id": "Sjl92BOPPD18"
      },
      "execution_count": null,
      "outputs": []
    },
    {
      "cell_type": "code",
      "source": [
        "# Download testing_data\n",
        "%cd /content\n",
        "! gdown 1KW_yMMoRvtrB5qD1vDJ6-33ZS0bNwNGp\n",
        "! unzip images_1.zip\n",
        "! rm images_1.zip\n",
        "! mkdir test_images\n",
        "! mv doc_images* test_images/\n",
        "! mv test_images UHDM/\n",
        "clear_output()"
      ],
      "metadata": {
        "id": "B4RKuRPurthp"
      },
      "execution_count": null,
      "outputs": []
    },
    {
      "cell_type": "code",
      "source": [
        "# Download training data\n",
        "%cd /content\n",
        "! gdown 1p95UecwIhfCvC_bUtEAT4mwzea7hieTY\n",
        "! unzip train.zip\n",
        "! rm train.zip\n",
        "! mv /content/train /content/UHDM/\n",
        "clear_output()"
      ],
      "metadata": {
        "id": "jnKYJMiuPSML"
      },
      "execution_count": null,
      "outputs": []
    },
    {
      "cell_type": "code",
      "source": [
        "# Download pre-trained weights\n",
        "# ! gdown 1HT_ubcAYRqzFIJ46XuPhrulJk2YFBIEl # uhdm\n",
        "# ! gdown 1PyCLCytsu4F8gEk_04a8Qs7pcsHazAie # uhdm-large\n",
        "! gdown 1WWFz-BYpW9QAwGGSy7hVPSDNT0DARnhZ # lcd-moire\n",
        "! gdown 114EDQnJ0AUEGiXFmA9Hiwj_m7sj1KyNW # lcd-moire large\n",
        "! mkdir pretrained_model\n",
        "! mv *.pth pretrained_model/\n",
        "! mv pretrained_model UHDM/"
      ],
      "metadata": {
        "id": "mS6EivhprtkY"
      },
      "execution_count": null,
      "outputs": []
    },
    {
      "cell_type": "code",
      "source": [
        "# Download fine-tuned weights\n",
        "\n",
        "! gdown 1JXC1JA4fXbIlt2zhCXvT7jTjgHhQQMHm # uhdm\n",
        "! gdown 1-S-7ZyOKkWuMQhkkSmXbwFEkKr8v7UJG # uhdm-large\n",
        "! mkdir finetuned_model\n",
        "! mv *.tar finetuned_model/\n",
        "! mv finetuned_model UHDM/"
      ],
      "metadata": {
        "id": "lsVpf5E8kJJp"
      },
      "execution_count": null,
      "outputs": []
    },
    {
      "cell_type": "code",
      "source": [
        "# ! rm -rf pretrained_model test_results test_images train uhdm\n",
        "! rm -rf test_results.zip"
      ],
      "metadata": {
        "id": "5Knc2ASYQbfs"
      },
      "execution_count": null,
      "outputs": []
    },
    {
      "cell_type": "markdown",
      "source": [
        "# Train"
      ],
      "metadata": {
        "id": "pXc67zGpT5-r"
      }
    },
    {
      "cell_type": "code",
      "source": [
        "%cd UHDM"
      ],
      "metadata": {
        "id": "Qelq889q5ykl"
      },
      "execution_count": null,
      "outputs": []
    },
    {
      "cell_type": "code",
      "source": [
        "! pip install -r requirements.txt\n",
        "clear_output()"
      ],
      "metadata": {
        "id": "bj-28NMN8IhW"
      },
      "execution_count": null,
      "outputs": []
    },
    {
      "cell_type": "code",
      "source": [
        "! python train.py --config ./config/uhdm_large_config.yaml"
      ],
      "metadata": {
        "id": "HVzd3A39T--z"
      },
      "execution_count": null,
      "outputs": []
    },
    {
      "cell_type": "markdown",
      "source": [
        "# Test"
      ],
      "metadata": {
        "id": "S3qhPBIZT6cL"
      }
    },
    {
      "cell_type": "code",
      "source": [
        "%cd UHDM"
      ],
      "metadata": {
        "id": "vE17obGXk55L"
      },
      "execution_count": null,
      "outputs": []
    },
    {
      "cell_type": "code",
      "source": [
        "from google.colab import drive\n",
        "drive.mount('/content/drive')"
      ],
      "metadata": {
        "id": "kxy0XP-z84AW"
      },
      "execution_count": null,
      "outputs": []
    },
    {
      "cell_type": "code",
      "source": [
        "! pip install -r requirements.txt\n",
        "clear_output()"
      ],
      "metadata": {
        "id": "kky_PDnqwMNY"
      },
      "execution_count": null,
      "outputs": []
    },
    {
      "cell_type": "code",
      "source": [
        "# Test on GPU\n",
        "! python demo_test.py --config ./demo_config/demo.yaml"
      ],
      "metadata": {
        "id": "yU4eWJhFxK4m"
      },
      "execution_count": null,
      "outputs": []
    },
    {
      "cell_type": "code",
      "source": [
        "# Test on CPU\n",
        "! python demo_test_cpu.py --config ./demo_config/demo.yaml"
      ],
      "metadata": {
        "id": "-zoxb38ZqR4K"
      },
      "execution_count": null,
      "outputs": []
    },
    {
      "cell_type": "code",
      "source": [
        "! zip -r test_results.zip test_results\n",
        "clear_output()"
      ],
      "metadata": {
        "id": "Td5Yu7sm8XNY"
      },
      "execution_count": null,
      "outputs": []
    },
    {
      "cell_type": "code",
      "source": [],
      "metadata": {
        "id": "y82zoula7Pi6"
      },
      "execution_count": null,
      "outputs": []
    }
  ],
  "metadata": {
    "colab": {
      "provenance": [],
      "gpuType": "T4",
      "collapsed_sections": [
        "Ygkft7RIPch_"
      ]
    },
    "kernelspec": {
      "display_name": "Python 3",
      "name": "python3"
    },
    "language_info": {
      "name": "python"
    },
    "accelerator": "GPU"
  },
  "nbformat": 4,
  "nbformat_minor": 0
}