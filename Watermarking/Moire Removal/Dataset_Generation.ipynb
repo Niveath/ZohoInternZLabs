{
 "cells": [
  {
   "cell_type": "code",
   "execution_count": 1,
   "metadata": {},
   "outputs": [],
   "source": [
    "import os\n",
    "import random\n",
    "import cv2\n",
    "from PIL import Image"
   ]
  },
  {
   "cell_type": "code",
   "execution_count": 19,
   "metadata": {},
   "outputs": [],
   "source": [
    "# Augment images to create training dataset of document images with moire patterns\n",
    "\n",
    "images_dir = \"./moire_removal/doc_images\"\n",
    "moire_images_dir = \"./moire_removal/training_doc_images\"\n",
    "moire_masks_folder = \"./moire_removal/moire_masks\"\n",
    "\n",
    "os.makedirs(moire_images_dir, exist_ok=True)\n",
    "\n",
    "images = os.listdir(images_dir)\n",
    "masks = os.listdir(moire_masks_folder)\n",
    "\n",
    "image_index = 1\n",
    "for image in images:\n",
    "    image_path = os.path.join(images_dir, image)\n",
    "    for mask_name in masks:\n",
    "        mask_path = os.path.join(moire_masks_folder, mask_name)\n",
    "    \n",
    "        img = cv2.imread(image_path)\n",
    "        mask = cv2.imread(mask_path)\n",
    "        mask = cv2.resize(mask, (img.shape[1], img.shape[0]))\n",
    "    \n",
    "        alpha = 0.8\n",
    "        beta = (1.0 - alpha)\n",
    "        gamma = 0.5\n",
    "\n",
    "        if(image_index < 10): image_number = \"000\" + str(image_index)\n",
    "        elif(image_index < 100): image_number = \"00\" + str(image_index)\n",
    "        else: image_number = \"0\" + str(image_index)\n",
    "            \n",
    "        gt_image_path = os.path.join(moire_images_dir, f\"{image_number}_gt.jpg\")\n",
    "        moire_image_path = os.path.join(moire_images_dir, f\"{image_number}_moire.jpg\")\n",
    "    \n",
    "        masked_img = cv2.addWeighted(img, alpha, mask, beta, gamma)\n",
    "        cv2.imwrite(moire_image_path, masked_img)\n",
    "        cv2.imwrite(gt_image_path, img)\n",
    "\n",
    "        image_index += 1"
   ]
  },
  {
   "cell_type": "code",
   "execution_count": 3,
   "metadata": {},
   "outputs": [],
   "source": [
    "# Augment images to create testing dataset of document images with moire patterns\n",
    "\n",
    "images_dir = \"./moire_removal/testing/gt\"\n",
    "moire_images_dir = \"./moire_removal/testing/moire\"\n",
    "moire_masks_folder = \"./moire_removal/moire_masks\"\n",
    "\n",
    "os.makedirs(moire_images_dir, exist_ok=True)\n",
    "\n",
    "images = os.listdir(images_dir)\n",
    "masks = os.listdir(moire_masks_folder)\n",
    "\n",
    "image_index = 1\n",
    "for image in images:\n",
    "    image_path = os.path.join(images_dir, image)\n",
    "    mask_name = random.choice(masks)\n",
    "    mask_path = os.path.join(moire_masks_folder, mask_name)\n",
    "\n",
    "    img = cv2.imread(image_path)\n",
    "    mask = cv2.imread(mask_path)\n",
    "    mask = cv2.resize(mask, (img.shape[1], img.shape[0]))\n",
    "\n",
    "    alpha = 0.8\n",
    "    beta = (1.0 - alpha)\n",
    "    gamma = 0.5\n",
    "    \n",
    "    moire_image_path = os.path.join(moire_images_dir, image)\n",
    "\n",
    "    masked_img = cv2.addWeighted(img, alpha, mask, beta, gamma)\n",
    "    cv2.imwrite(moire_image_path, masked_img)"
   ]
  },
  {
   "cell_type": "code",
   "execution_count": 5,
   "metadata": {},
   "outputs": [],
   "source": [
    "images_dir = \"./moire_removal/real_doc_images\"\n",
    "\n",
    "images_list = os.listdir(images_dir)\n",
    "\n",
    "size = (1280, 720)\n",
    "for image in images_list:\n",
    "    img_path = os.path.join(images_dir, image)\n",
    "    img = Image.open(img_path)\n",
    "    img = img.resize(size)\n",
    "    img.save(img_path)"
   ]
  }
 ],
 "metadata": {
  "kernelspec": {
   "display_name": "Python 3 (ipykernel)",
   "language": "python",
   "name": "python3"
  },
  "language_info": {
   "codemirror_mode": {
    "name": "ipython",
    "version": 3
   },
   "file_extension": ".py",
   "mimetype": "text/x-python",
   "name": "python",
   "nbconvert_exporter": "python",
   "pygments_lexer": "ipython3",
   "version": "3.10.6"
  }
 },
 "nbformat": 4,
 "nbformat_minor": 4
}
