{
 "cells": [
  {
   "cell_type": "code",
   "execution_count": 30,
   "id": "3a8b09c4-af00-4979-a1a0-0bd8e21228a8",
   "metadata": {},
   "outputs": [],
   "source": [
    "import os\n",
    "import random\n",
    "import time\n",
    "import shutil\n",
    "import numpy as np\n",
    "from PIL import Image\n",
    "import torch\n",
    "from gradio_client import Client\n",
    "from RealESRGAN import RealESRGAN\n",
    "\n",
    "random.seed(420)"
   ]
  },
  {
   "cell_type": "code",
   "execution_count": null,
   "id": "3d3815c8-8be9-4455-bc90-d929ec235c6c",
   "metadata": {},
   "outputs": [],
   "source": [
    "def dewarp(input_image_folder, output_image_folder):\n",
    "    \n",
    "    \"\"\"\n",
    "        Performs image restoration on all images in the input folder and saves the restored image \n",
    "        in the output folder\n",
    "    \"\"\"\n",
    "    \n",
    "    os.makedirs(output_image_folder, exist_ok=True)\n",
    "    image_list = os.listdir(input_image_folder)\n",
    "    \n",
    "    for image_file in image_list:\n",
    "        print(f\"Dewarping {image_file}\")\n",
    "        input_image_path = os.path.join(input_image_folder, image_file)\n",
    "        result_image_path = os.path.join(output_image_folder, image_file)\n",
    "        start_time = time.time()\n",
    "        dewarper = Client(\"https://doctrp.docscanner.top/\")\n",
    "        dewarped_image_path = dewarper.predict(input_image_path, api_name=\"/predict\")\n",
    "        end_time = time.time()\n",
    "        shutil.move(dewarped_image_path, result_image_path)\n",
    "        print(f\"Dewarped {image_file}. {end_time-start_time:.3f}s taken!\")"
   ]
  },
  {
   "cell_type": "code",
   "execution_count": null,
   "id": "c82fba2a-8842-4dcf-a49d-d4a483547ae4",
   "metadata": {},
   "outputs": [],
   "source": [
    "def get_model(device, scale):\n",
    "    \n",
    "    \"\"\" Get Real-ESRGAN model for super-resolution of given scale \"\"\"\n",
    "    \n",
    "    model = RealESRGAN(device, scale=int(model_scale))\n",
    "    model.load_weights(f'weights/RealESRGAN_x{model_scale}.pth')\n",
    "\n",
    "    return model\n",
    "\n",
    "    \n",
    "def super_resolution(model, input_image_folder, output_image_folder):\n",
    "\n",
    "    \"\"\"\n",
    "        Performs super-resolution on all images in the input_image_folder and saves the upscaled image\n",
    "        in the output folder\n",
    "    \"\"\"\n",
    "    \n",
    "    os.makedirs(output_image_folder, exist_ok=True)\n",
    "    images_list = os.listdir(input_image_folder)\n",
    "\n",
    "    for image_file in images_list:\n",
    "        input_image_path = os.path.join(input_image_folder, image_file)\n",
    "        result_image_path = os.path.join(output_image_folder, image_file)\n",
    "        image = Image.open(input_image_path).convert('RGB')\n",
    "        sr_image = model.predict(np.array(image))\n",
    "        sr_image.save(result_image_path)\n",
    "        print(f'Finished! Image saved to {result_image_path}')"
   ]
  },
  {
   "cell_type": "code",
   "execution_count": null,
   "id": "03d72ff4-891d-42eb-9e59-5a997a66eaad",
   "metadata": {},
   "outputs": [],
   "source": [
    "current_dir = os.getcwd()\n",
    "input_image_folder = os.path.join(current_dir, \"archive/scan_doc_rotation/images\")\n",
    "dewarp_output_image_folder = os.path.join(current_dir, \"dewarped_images\")\n",
    "\n",
    "dewarp(input_image_folder, dewarp_output_image_folder)\n",
    "\n",
    "device = torch.device('cuda' if torch.cuda.is_available() else 'cpu')\n",
    "model_scale = \"2\" # Can be 2, 4, 8\n",
    "sr_model = get_model(device, model_scale)\n",
    "\n",
    "sr_output_image_folder = os.path.join(current_dir, \"sr_images\")\n",
    "\n",
    "super_resolution(sr_model, dewarp_output_image_folder, sr_output_image_folder)"
   ]
  }
 ],
 "metadata": {
  "kernelspec": {
   "display_name": "Python 3 (ipykernel)",
   "language": "python",
   "name": "python3"
  },
  "language_info": {
   "codemirror_mode": {
    "name": "ipython",
    "version": 3
   },
   "file_extension": ".py",
   "mimetype": "text/x-python",
   "name": "python",
   "nbconvert_exporter": "python",
   "pygments_lexer": "ipython3",
   "version": "3.10.6"
  }
 },
 "nbformat": 4,
 "nbformat_minor": 5
}
