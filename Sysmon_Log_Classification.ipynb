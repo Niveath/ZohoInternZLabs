{
  "nbformat": 4,
  "nbformat_minor": 0,
  "metadata": {
    "colab": {
      "provenance": []
    },
    "kernelspec": {
      "name": "python3",
      "display_name": "Python 3"
    },
    "language_info": {
      "name": "python"
    }
  },
  "cells": [
    {
      "cell_type": "markdown",
      "source": [
        "# Identifying malicious events by analysing Sysmon logs"
      ],
      "metadata": {
        "id": "iLx6W2AKdxA8"
      }
    },
    {
      "cell_type": "code",
      "source": [
        "from IPython.display import clear_output"
      ],
      "metadata": {
        "id": "zowvuB7K8I6s"
      },
      "execution_count": 1,
      "outputs": []
    },
    {
      "cell_type": "code",
      "source": [
        "# Downloads\n",
        "! git clone https://github.com/dtrizna/SysmonRNN.git\n",
        "! mv /content/SysmonRNN/data/logs.ft /content/sysmon.ft\n",
        "! mv /content/SysmonRNN/data/logs_pretty.xml /content/sysmon.xml\n",
        "! mv /content/SysmonRNN/data/pid_malicious.lst /content/pid_malicious.lst \n",
        "! rm -rf /content/SysmonRNN\n",
        "\n",
        "clear_output()"
      ],
      "metadata": {
        "id": "HpbEg9-hMyll"
      },
      "execution_count": null,
      "outputs": []
    },
    {
      "cell_type": "code",
      "source": [
        "# Imports\n",
        "import numpy as np\n",
        "import pandas as pd\n",
        "import xml.etree.ElementTree as ET\n",
        "from sklearn.model_selection import train_test_split\n",
        "from sklearn.metrics import confusion_matrix\n",
        "from xgboost import XGBClassifier"
      ],
      "metadata": {
        "id": "HKYjCJYQHEd0"
      },
      "execution_count": 275,
      "outputs": []
    },
    {
      "cell_type": "code",
      "source": [
        "def GetMaliciousIDs(path=\"/content/pid_malicious.lst\"):\n",
        "    \"\"\"\n",
        "        Read malicious file and get malicious process ids\n",
        "    \"\"\"\n",
        "    with open(path, \"r\") as f:\n",
        "        malicious = f.readlines()\n",
        "\n",
        "    for i in range(len(malicious)) :\n",
        "        if(i!=len(malicious) - 1):\n",
        "            malicious[i] = malicious[i][:-1]\n",
        "        malicious[i] = int(malicious[i])\n",
        "\n",
        "    return malicious"
      ],
      "metadata": {
        "id": "g0cqXygro1CZ"
      },
      "execution_count": 4,
      "outputs": []
    },
    {
      "cell_type": "code",
      "source": [
        "def ParseXMLData(maliciousIDs, XMLPath=\"/content/sysmon.xml\"):\n",
        "    \"\"\"\n",
        "        Read the XML file and create a Pandas Dataframe\n",
        "        Additionally save it as a csv file for future use\n",
        "    \"\"\"\n",
        "    tree = ET.parse(XMLPath)\n",
        "    XMLNS = \"{http://schemas.microsoft.com/win/2004/08/events/event}\"\n",
        "    root = tree.getroot();\n",
        "    events = root.findall(XMLNS + \"Event\");\n",
        "    sysmonData = []\n",
        "    for event in events:\n",
        "        data = {}\n",
        "        data[\"Valid\"] = 1\n",
        "\n",
        "        systemData = event.find(XMLNS + \"System\")\n",
        "        systemDataTags = [node.tag for node in systemData.iter()][1:]\n",
        "        for tag in systemDataTags:\n",
        "            node = systemData.find(tag)\n",
        "            nodeName = tag[tag.find(XMLNS) + len(XMLNS) : ]\n",
        "            if(node.text is not None):\n",
        "                data[nodeName] = node.text\n",
        "            if(len(node.attrib)!=0):\n",
        "                data.update(node.attrib)\n",
        "\n",
        "        eventData = event.find(XMLNS + \"EventData\")\n",
        "        eventDataNodes = eventData.findall(XMLNS + \"Data\")\n",
        "        for node in eventDataNodes:\n",
        "            nodeName = node.attrib[\"Name\"]\n",
        "            if(nodeName==\"RuleName\"):\n",
        "                continue\n",
        "            elif(nodeName==\"ProcessId\"):\n",
        "                data[nodeName] = int(node.text)\n",
        "            else:\n",
        "                data[nodeName] = node.text\n",
        "\n",
        "        if(\"ProcessId\" in data.keys() and data[\"ProcessId\"] in maliciousIDs):\n",
        "            data[\"Valid\"] = 0\n",
        "\n",
        "        sysmonData.append(data)\n",
        "\n",
        "    sysmonDF = pd.DataFrame(sysmonData)\n",
        "    sysmonDF.sort_values(by=[\"ProcessId\", \"UtcTime\"], ascending=True, inplace=True)\n",
        "    sysmonDF[\"UtcTime\"] = pd.to_datetime(sysmonDF[\"UtcTime\"])\n",
        "    sysmonDF.dropna(subset=\"ProcessId\", inplace=True)\n",
        "    sysmonDF[\"ProcessId\"] = sysmonDF[\"ProcessId\"].astype('int64')\n",
        "    sysmonDF.reset_index(inplace=True, drop=True)\n",
        "    sysmonDF.to_csv(\"sysmon.csv\", index=False)"
      ],
      "metadata": {
        "id": "NdrZd8ZWHkJQ"
      },
      "execution_count": 296,
      "outputs": []
    },
    {
      "cell_type": "code",
      "source": [
        "maliciousIDs = GetMaliciousIDs()\n",
        "XMLPath = \"/content/sysmon.xml\"\n",
        "ParseXMLData(maliciousIDs=maliciousIDs, XMLPath=XMLPath)"
      ],
      "metadata": {
        "id": "k_sC8-lMliy5"
      },
      "execution_count": 297,
      "outputs": []
    },
    {
      "cell_type": "code",
      "source": [
        "sysmonDF = pd.read_csv(\"sysmon.csv\")"
      ],
      "metadata": {
        "id": "LmS8rLN2W0WJ"
      },
      "execution_count": 298,
      "outputs": []
    },
    {
      "cell_type": "code",
      "source": [
        "# Remove processes with less than 5 events as they cannot be malicious\n",
        "eventCount = sysmonDF[\"ProcessId\"].value_counts()\n",
        "dropIndex = eventCount[eventCount < 5].index.astype('int64')\n",
        "\n",
        "sysmonDF = sysmonDF[~sysmonDF.ProcessId.isin(dropIndex)]\n",
        "sysmonDF.reset_index(inplace=True)"
      ],
      "metadata": {
        "id": "pzA3ft6naB4e"
      },
      "execution_count": 320,
      "outputs": []
    },
    {
      "cell_type": "code",
      "source": [
        "# Discard columns that do not add value\n",
        "usefulColumns = [\"Valid\", \"ProcessId\", \"UtcTime\", \"Image\", \"ImageLoaded\", \"Description\", \"TargetFilename\", \"SourceIp\", \"DestinationIp\", \"CommandLine\"]\n",
        "sysmonDF = sysmonDF[usefulColumns]"
      ],
      "metadata": {
        "id": "yVtHb4YNegwd"
      },
      "execution_count": 321,
      "outputs": []
    },
    {
      "cell_type": "code",
      "source": [
        "def GenerateName(x) :\n",
        "    \"\"\"\n",
        "        Extract the file name from the absolute address in the dataframe\n",
        "    \"\"\"\n",
        "    if(pd.isnull(x)): return x\n",
        "    else: \n",
        "        start = x.rfind('\\\\')\n",
        "        if(start==-1): return x\n",
        "        return x[x.rfind('\\\\') + 1 : ]"
      ],
      "metadata": {
        "id": "I8MeqnrbxaH_"
      },
      "execution_count": 322,
      "outputs": []
    },
    {
      "cell_type": "code",
      "source": [
        "# Extract file names\n",
        "sysmonDF[\"Image\"] = sysmonDF[\"Image\"].apply(GenerateName)\n",
        "sysmonDF[\"ImageLoaded\"] = sysmonDF[\"ImageLoaded\"].apply(GenerateName)\n",
        "sysmonDF[\"TargetFilename\"] = sysmonDF[\"TargetFilename\"].apply(GenerateName)\n",
        "sysmonDF[\"CommandLine\"] = sysmonDF[\"CommandLine\"].apply(GenerateName)"
      ],
      "metadata": {
        "id": "GGMGYsMhw5ze"
      },
      "execution_count": 323,
      "outputs": []
    },
    {
      "cell_type": "code",
      "source": [
        "class EncodeData:\n",
        "    \"\"\"\n",
        "        Generate index-based encoding of the data\n",
        "        This is done as the data is categorical\n",
        "    \"\"\"\n",
        "    def __init__(self, df):\n",
        "        self.df = df\n",
        "        self.imageDict = self.GenerateImageEncoding()\n",
        "        self.descDict = self.GenerateDescEncoding()\n",
        "        self.fileDict = self.GenerateFileEncoding()\n",
        "        self.commDict = self.GenerateCommandEncoding()\n",
        "\n",
        "    def GenerateImageEncoding(self):\n",
        "        imageNames = self.df[\"Image\"].unique().tolist()\n",
        "        loadedImageNames = self.df[\"ImageLoaded\"].unique().tolist()\n",
        "        imageNames = list(set(imageNames + loadedImageNames))\n",
        "        \n",
        "        encoding = {}\n",
        "        for index, name in enumerate(imageNames):\n",
        "            encoding[name] = index + 1\n",
        "\n",
        "        return encoding\n",
        "\n",
        "    def GenerateDescEncoding(self):\n",
        "        descriptions = self.df[\"Description\"].unique().tolist()\n",
        "\n",
        "        encoding = {}\n",
        "        for index, desc in enumerate(descriptions):\n",
        "            encoding[desc] = index + 1\n",
        "\n",
        "        return encoding\n",
        "\n",
        "    def GenerateFileEncoding(self):\n",
        "        files = self.df[\"TargetFilename\"].unique().tolist()\n",
        "\n",
        "        encoding = {}\n",
        "        for index, _file in enumerate(files):\n",
        "            encoding[_file] = index + 1\n",
        "\n",
        "        return encoding\n",
        "\n",
        "    def GenerateCommandEncoding(self):\n",
        "        commands = self.df[\"CommandLine\"].unique().tolist()\n",
        "\n",
        "        encoding = {}\n",
        "        for index, command in enumerate(commands):\n",
        "            encoding[command] = index\n",
        "\n",
        "        return encoding\n",
        "\n",
        "    def EncodeImageName(self, x):\n",
        "        if(pd.isnull(x)): return -1\n",
        "        return self.imageDict[x]\n",
        "\n",
        "    def EncodeDescription(self, x):\n",
        "        if(pd.isnull(x)): return -1\n",
        "        return self.descDict[x]\n",
        "\n",
        "    def EncodeFileName(self, x):\n",
        "        if(pd.isnull(x)): return -1\n",
        "        return self.fileDict[x]\n",
        "\n",
        "    def EncodeCommandLine(self, x):\n",
        "        if(pd.isnull(x)): return -1\n",
        "        return self.commDict[x]"
      ],
      "metadata": {
        "id": "fWBakoT-AXeA"
      },
      "execution_count": 324,
      "outputs": []
    },
    {
      "cell_type": "code",
      "source": [
        "# Generate encoding of the data\n",
        "encoder = EncodeData(sysmonDF)\n",
        "\n",
        "dataDF = pd.DataFrame()\n",
        "dataDF[\"ProcessId\"] = sysmonDF[\"ProcessId\"]\n",
        "dataDF[\"UtcTime\"] = sysmonDF[\"UtcTime\"]\n",
        "dataDF[\"Image\"] = sysmonDF[\"Image\"].apply(encoder.EncodeImageName)\n",
        "dataDF[\"ImageLoaded\"] = sysmonDF[\"ImageLoaded\"].apply(encoder.EncodeImageName)\n",
        "dataDF[\"File\"] = sysmonDF[\"TargetFilename\"].apply(encoder.EncodeFileName)\n",
        "dataDF[\"Description\"] = sysmonDF[\"Description\"].apply(encoder.EncodeDescription)\n",
        "dataDF[\"CommandLine\"] = sysmonDF[\"CommandLine\"].apply(encoder.EncodeCommandLine)\n",
        "dataDF[\"Valid\"] = sysmonDF[\"Valid\"]\n",
        "dataDF.sort_values(by=[\"ProcessId\", \"UtcTime\"], ascending=True, inplace=True)"
      ],
      "metadata": {
        "id": "J4-WobwGOC2q"
      },
      "execution_count": 325,
      "outputs": []
    },
    {
      "cell_type": "code",
      "source": [
        "dataDF.head()"
      ],
      "metadata": {
        "colab": {
          "base_uri": "https://localhost:8080/",
          "height": 206
        },
        "id": "uV3QAuF84BV3",
        "outputId": "611391a8-7eec-485e-b074-bc01dcdfef2b"
      },
      "execution_count": 326,
      "outputs": [
        {
          "output_type": "execute_result",
          "data": {
            "text/plain": [
              "   ProcessId                  UtcTime  Image  ImageLoaded  File  Description  \\\n",
              "0          4  2020-05-12 14:53:20.370    198           -1    -1           -1   \n",
              "1          4  2020-05-12 14:53:52.112    198           -1    -1           -1   \n",
              "2          4  2020-05-12 14:56:49.452    198           -1    -1           -1   \n",
              "3          4  2020-05-12 14:56:49.507    198           -1    -1           -1   \n",
              "4          4  2020-05-12 14:56:49.668    198           -1    -1           -1   \n",
              "\n",
              "   CommandLine  Valid  \n",
              "0           -1      1  \n",
              "1           -1      1  \n",
              "2           -1      1  \n",
              "3           -1      1  \n",
              "4           -1      1  "
            ],
            "text/html": [
              "\n",
              "  <div id=\"df-d0f8a9f1-ac74-4bd4-a1f5-edb4032f94c7\">\n",
              "    <div class=\"colab-df-container\">\n",
              "      <div>\n",
              "<style scoped>\n",
              "    .dataframe tbody tr th:only-of-type {\n",
              "        vertical-align: middle;\n",
              "    }\n",
              "\n",
              "    .dataframe tbody tr th {\n",
              "        vertical-align: top;\n",
              "    }\n",
              "\n",
              "    .dataframe thead th {\n",
              "        text-align: right;\n",
              "    }\n",
              "</style>\n",
              "<table border=\"1\" class=\"dataframe\">\n",
              "  <thead>\n",
              "    <tr style=\"text-align: right;\">\n",
              "      <th></th>\n",
              "      <th>ProcessId</th>\n",
              "      <th>UtcTime</th>\n",
              "      <th>Image</th>\n",
              "      <th>ImageLoaded</th>\n",
              "      <th>File</th>\n",
              "      <th>Description</th>\n",
              "      <th>CommandLine</th>\n",
              "      <th>Valid</th>\n",
              "    </tr>\n",
              "  </thead>\n",
              "  <tbody>\n",
              "    <tr>\n",
              "      <th>0</th>\n",
              "      <td>4</td>\n",
              "      <td>2020-05-12 14:53:20.370</td>\n",
              "      <td>198</td>\n",
              "      <td>-1</td>\n",
              "      <td>-1</td>\n",
              "      <td>-1</td>\n",
              "      <td>-1</td>\n",
              "      <td>1</td>\n",
              "    </tr>\n",
              "    <tr>\n",
              "      <th>1</th>\n",
              "      <td>4</td>\n",
              "      <td>2020-05-12 14:53:52.112</td>\n",
              "      <td>198</td>\n",
              "      <td>-1</td>\n",
              "      <td>-1</td>\n",
              "      <td>-1</td>\n",
              "      <td>-1</td>\n",
              "      <td>1</td>\n",
              "    </tr>\n",
              "    <tr>\n",
              "      <th>2</th>\n",
              "      <td>4</td>\n",
              "      <td>2020-05-12 14:56:49.452</td>\n",
              "      <td>198</td>\n",
              "      <td>-1</td>\n",
              "      <td>-1</td>\n",
              "      <td>-1</td>\n",
              "      <td>-1</td>\n",
              "      <td>1</td>\n",
              "    </tr>\n",
              "    <tr>\n",
              "      <th>3</th>\n",
              "      <td>4</td>\n",
              "      <td>2020-05-12 14:56:49.507</td>\n",
              "      <td>198</td>\n",
              "      <td>-1</td>\n",
              "      <td>-1</td>\n",
              "      <td>-1</td>\n",
              "      <td>-1</td>\n",
              "      <td>1</td>\n",
              "    </tr>\n",
              "    <tr>\n",
              "      <th>4</th>\n",
              "      <td>4</td>\n",
              "      <td>2020-05-12 14:56:49.668</td>\n",
              "      <td>198</td>\n",
              "      <td>-1</td>\n",
              "      <td>-1</td>\n",
              "      <td>-1</td>\n",
              "      <td>-1</td>\n",
              "      <td>1</td>\n",
              "    </tr>\n",
              "  </tbody>\n",
              "</table>\n",
              "</div>\n",
              "      <button class=\"colab-df-convert\" onclick=\"convertToInteractive('df-d0f8a9f1-ac74-4bd4-a1f5-edb4032f94c7')\"\n",
              "              title=\"Convert this dataframe to an interactive table.\"\n",
              "              style=\"display:none;\">\n",
              "        \n",
              "  <svg xmlns=\"http://www.w3.org/2000/svg\" height=\"24px\"viewBox=\"0 0 24 24\"\n",
              "       width=\"24px\">\n",
              "    <path d=\"M0 0h24v24H0V0z\" fill=\"none\"/>\n",
              "    <path d=\"M18.56 5.44l.94 2.06.94-2.06 2.06-.94-2.06-.94-.94-2.06-.94 2.06-2.06.94zm-11 1L8.5 8.5l.94-2.06 2.06-.94-2.06-.94L8.5 2.5l-.94 2.06-2.06.94zm10 10l.94 2.06.94-2.06 2.06-.94-2.06-.94-.94-2.06-.94 2.06-2.06.94z\"/><path d=\"M17.41 7.96l-1.37-1.37c-.4-.4-.92-.59-1.43-.59-.52 0-1.04.2-1.43.59L10.3 9.45l-7.72 7.72c-.78.78-.78 2.05 0 2.83L4 21.41c.39.39.9.59 1.41.59.51 0 1.02-.2 1.41-.59l7.78-7.78 2.81-2.81c.8-.78.8-2.07 0-2.86zM5.41 20L4 18.59l7.72-7.72 1.47 1.35L5.41 20z\"/>\n",
              "  </svg>\n",
              "      </button>\n",
              "      \n",
              "  <style>\n",
              "    .colab-df-container {\n",
              "      display:flex;\n",
              "      flex-wrap:wrap;\n",
              "      gap: 12px;\n",
              "    }\n",
              "\n",
              "    .colab-df-convert {\n",
              "      background-color: #E8F0FE;\n",
              "      border: none;\n",
              "      border-radius: 50%;\n",
              "      cursor: pointer;\n",
              "      display: none;\n",
              "      fill: #1967D2;\n",
              "      height: 32px;\n",
              "      padding: 0 0 0 0;\n",
              "      width: 32px;\n",
              "    }\n",
              "\n",
              "    .colab-df-convert:hover {\n",
              "      background-color: #E2EBFA;\n",
              "      box-shadow: 0px 1px 2px rgba(60, 64, 67, 0.3), 0px 1px 3px 1px rgba(60, 64, 67, 0.15);\n",
              "      fill: #174EA6;\n",
              "    }\n",
              "\n",
              "    [theme=dark] .colab-df-convert {\n",
              "      background-color: #3B4455;\n",
              "      fill: #D2E3FC;\n",
              "    }\n",
              "\n",
              "    [theme=dark] .colab-df-convert:hover {\n",
              "      background-color: #434B5C;\n",
              "      box-shadow: 0px 1px 3px 1px rgba(0, 0, 0, 0.15);\n",
              "      filter: drop-shadow(0px 1px 2px rgba(0, 0, 0, 0.3));\n",
              "      fill: #FFFFFF;\n",
              "    }\n",
              "  </style>\n",
              "\n",
              "      <script>\n",
              "        const buttonEl =\n",
              "          document.querySelector('#df-d0f8a9f1-ac74-4bd4-a1f5-edb4032f94c7 button.colab-df-convert');\n",
              "        buttonEl.style.display =\n",
              "          google.colab.kernel.accessAllowed ? 'block' : 'none';\n",
              "\n",
              "        async function convertToInteractive(key) {\n",
              "          const element = document.querySelector('#df-d0f8a9f1-ac74-4bd4-a1f5-edb4032f94c7');\n",
              "          const dataTable =\n",
              "            await google.colab.kernel.invokeFunction('convertToInteractive',\n",
              "                                                     [key], {});\n",
              "          if (!dataTable) return;\n",
              "\n",
              "          const docLinkHtml = 'Like what you see? Visit the ' +\n",
              "            '<a target=\"_blank\" href=https://colab.research.google.com/notebooks/data_table.ipynb>data table notebook</a>'\n",
              "            + ' to learn more about interactive tables.';\n",
              "          element.innerHTML = '';\n",
              "          dataTable['output_type'] = 'display_data';\n",
              "          await google.colab.output.renderOutput(dataTable, element);\n",
              "          const docLink = document.createElement('div');\n",
              "          docLink.innerHTML = docLinkHtml;\n",
              "          element.appendChild(docLink);\n",
              "        }\n",
              "      </script>\n",
              "    </div>\n",
              "  </div>\n",
              "  "
            ]
          },
          "metadata": {},
          "execution_count": 326
        }
      ]
    },
    {
      "cell_type": "code",
      "source": [
        "def GenerateTrainTestSplit(df, windowSize=128, test_size=0.2):\n",
        "    process_ids = df[\"ProcessId\"].unique().tolist()\n",
        "    X = np.zeros((len(process_ids), windowSize * 5))\n",
        "    y = np.zeros(len(process_ids), dtype=np.int64)\n",
        "\n",
        "    for index, process in enumerate(process_ids):\n",
        "        processDF = df[df[\"ProcessId\"]==process].reset_index(drop=True)\n",
        "        processDF.head()\n",
        "        numEvents = len(processDF)\n",
        "        if(numEvents >= windowSize) :\n",
        "            data = processDF.iloc[numEvents-windowSize:, 2:7].values\n",
        "        else:\n",
        "            data = processDF.iloc[:, 2:7].values\n",
        "        data = data.reshape((1, len(data) * 5))\n",
        "\n",
        "        X[index, :data.shape[1]] = data\n",
        "        y[index] = processDF.Valid.iloc[0]\n",
        "        \n",
        "    X_train, X_test, y_train, y_test = train_test_split(X, y, test_size=test_size, random_state=42, shuffle=True)\n",
        "\n",
        "    # return np.array(X_train), np.asarray(X_test), np.asarray(y_train), np.asarray(y_test)\n",
        "    return X_train, X_test, y_train, y_test"
      ],
      "metadata": {
        "id": "LBthR5fTaCE_"
      },
      "execution_count": 329,
      "outputs": []
    },
    {
      "cell_type": "code",
      "source": [
        "X_train, X_test, y_train, y_test = GenerateTrainTestSplit(dataDF, 128, 0.1)"
      ],
      "metadata": {
        "id": "5tEhJWMeh81Z"
      },
      "execution_count": 330,
      "outputs": []
    },
    {
      "cell_type": "code",
      "source": [
        "classifier = XGBClassifier(objective=\"binary:logistic\",\n",
        "                           learning_rate=3e-4,\n",
        "                           n_estimators=1000,\n",
        "                           max_depth=8,\n",
        "                           early_stopping_rounds=3\n",
        "                           )\n",
        "\n",
        "classifier.fit(X_train, y_train,\n",
        "               eval_set=[(X_train, y_train), (X_test, y_test)],\n",
        "               verbose=False)"
      ],
      "metadata": {
        "colab": {
          "base_uri": "https://localhost:8080/",
          "height": 248
        },
        "id": "nkqyxQ8QiuHo",
        "outputId": "80f30050-d645-4d0f-a872-17845771ad09"
      },
      "execution_count": 331,
      "outputs": [
        {
          "output_type": "execute_result",
          "data": {
            "text/plain": [
              "XGBClassifier(base_score=None, booster=None, callbacks=None,\n",
              "              colsample_bylevel=None, colsample_bynode=None,\n",
              "              colsample_bytree=None, early_stopping_rounds=3,\n",
              "              enable_categorical=False, eval_metric=None, feature_types=None,\n",
              "              gamma=None, gpu_id=None, grow_policy=None, importance_type=None,\n",
              "              interaction_constraints=None, learning_rate=0.0003, max_bin=None,\n",
              "              max_cat_threshold=None, max_cat_to_onehot=None,\n",
              "              max_delta_step=None, max_depth=8, max_leaves=None,\n",
              "              min_child_weight=None, missing=nan, monotone_constraints=None,\n",
              "              n_estimators=1000, n_jobs=None, num_parallel_tree=None,\n",
              "              predictor=None, random_state=None, ...)"
            ],
            "text/html": [
              "<style>#sk-container-id-8 {color: black;background-color: white;}#sk-container-id-8 pre{padding: 0;}#sk-container-id-8 div.sk-toggleable {background-color: white;}#sk-container-id-8 label.sk-toggleable__label {cursor: pointer;display: block;width: 100%;margin-bottom: 0;padding: 0.3em;box-sizing: border-box;text-align: center;}#sk-container-id-8 label.sk-toggleable__label-arrow:before {content: \"▸\";float: left;margin-right: 0.25em;color: #696969;}#sk-container-id-8 label.sk-toggleable__label-arrow:hover:before {color: black;}#sk-container-id-8 div.sk-estimator:hover label.sk-toggleable__label-arrow:before {color: black;}#sk-container-id-8 div.sk-toggleable__content {max-height: 0;max-width: 0;overflow: hidden;text-align: left;background-color: #f0f8ff;}#sk-container-id-8 div.sk-toggleable__content pre {margin: 0.2em;color: black;border-radius: 0.25em;background-color: #f0f8ff;}#sk-container-id-8 input.sk-toggleable__control:checked~div.sk-toggleable__content {max-height: 200px;max-width: 100%;overflow: auto;}#sk-container-id-8 input.sk-toggleable__control:checked~label.sk-toggleable__label-arrow:before {content: \"▾\";}#sk-container-id-8 div.sk-estimator input.sk-toggleable__control:checked~label.sk-toggleable__label {background-color: #d4ebff;}#sk-container-id-8 div.sk-label input.sk-toggleable__control:checked~label.sk-toggleable__label {background-color: #d4ebff;}#sk-container-id-8 input.sk-hidden--visually {border: 0;clip: rect(1px 1px 1px 1px);clip: rect(1px, 1px, 1px, 1px);height: 1px;margin: -1px;overflow: hidden;padding: 0;position: absolute;width: 1px;}#sk-container-id-8 div.sk-estimator {font-family: monospace;background-color: #f0f8ff;border: 1px dotted black;border-radius: 0.25em;box-sizing: border-box;margin-bottom: 0.5em;}#sk-container-id-8 div.sk-estimator:hover {background-color: #d4ebff;}#sk-container-id-8 div.sk-parallel-item::after {content: \"\";width: 100%;border-bottom: 1px solid gray;flex-grow: 1;}#sk-container-id-8 div.sk-label:hover label.sk-toggleable__label {background-color: #d4ebff;}#sk-container-id-8 div.sk-serial::before {content: \"\";position: absolute;border-left: 1px solid gray;box-sizing: border-box;top: 0;bottom: 0;left: 50%;z-index: 0;}#sk-container-id-8 div.sk-serial {display: flex;flex-direction: column;align-items: center;background-color: white;padding-right: 0.2em;padding-left: 0.2em;position: relative;}#sk-container-id-8 div.sk-item {position: relative;z-index: 1;}#sk-container-id-8 div.sk-parallel {display: flex;align-items: stretch;justify-content: center;background-color: white;position: relative;}#sk-container-id-8 div.sk-item::before, #sk-container-id-8 div.sk-parallel-item::before {content: \"\";position: absolute;border-left: 1px solid gray;box-sizing: border-box;top: 0;bottom: 0;left: 50%;z-index: -1;}#sk-container-id-8 div.sk-parallel-item {display: flex;flex-direction: column;z-index: 1;position: relative;background-color: white;}#sk-container-id-8 div.sk-parallel-item:first-child::after {align-self: flex-end;width: 50%;}#sk-container-id-8 div.sk-parallel-item:last-child::after {align-self: flex-start;width: 50%;}#sk-container-id-8 div.sk-parallel-item:only-child::after {width: 0;}#sk-container-id-8 div.sk-dashed-wrapped {border: 1px dashed gray;margin: 0 0.4em 0.5em 0.4em;box-sizing: border-box;padding-bottom: 0.4em;background-color: white;}#sk-container-id-8 div.sk-label label {font-family: monospace;font-weight: bold;display: inline-block;line-height: 1.2em;}#sk-container-id-8 div.sk-label-container {text-align: center;}#sk-container-id-8 div.sk-container {/* jupyter's `normalize.less` sets `[hidden] { display: none; }` but bootstrap.min.css set `[hidden] { display: none !important; }` so we also need the `!important` here to be able to override the default hidden behavior on the sphinx rendered scikit-learn.org. See: https://github.com/scikit-learn/scikit-learn/issues/21755 */display: inline-block !important;position: relative;}#sk-container-id-8 div.sk-text-repr-fallback {display: none;}</style><div id=\"sk-container-id-8\" class=\"sk-top-container\"><div class=\"sk-text-repr-fallback\"><pre>XGBClassifier(base_score=None, booster=None, callbacks=None,\n",
              "              colsample_bylevel=None, colsample_bynode=None,\n",
              "              colsample_bytree=None, early_stopping_rounds=3,\n",
              "              enable_categorical=False, eval_metric=None, feature_types=None,\n",
              "              gamma=None, gpu_id=None, grow_policy=None, importance_type=None,\n",
              "              interaction_constraints=None, learning_rate=0.0003, max_bin=None,\n",
              "              max_cat_threshold=None, max_cat_to_onehot=None,\n",
              "              max_delta_step=None, max_depth=8, max_leaves=None,\n",
              "              min_child_weight=None, missing=nan, monotone_constraints=None,\n",
              "              n_estimators=1000, n_jobs=None, num_parallel_tree=None,\n",
              "              predictor=None, random_state=None, ...)</pre><b>In a Jupyter environment, please rerun this cell to show the HTML representation or trust the notebook. <br />On GitHub, the HTML representation is unable to render, please try loading this page with nbviewer.org.</b></div><div class=\"sk-container\" hidden><div class=\"sk-item\"><div class=\"sk-estimator sk-toggleable\"><input class=\"sk-toggleable__control sk-hidden--visually\" id=\"sk-estimator-id-8\" type=\"checkbox\" checked><label for=\"sk-estimator-id-8\" class=\"sk-toggleable__label sk-toggleable__label-arrow\">XGBClassifier</label><div class=\"sk-toggleable__content\"><pre>XGBClassifier(base_score=None, booster=None, callbacks=None,\n",
              "              colsample_bylevel=None, colsample_bynode=None,\n",
              "              colsample_bytree=None, early_stopping_rounds=3,\n",
              "              enable_categorical=False, eval_metric=None, feature_types=None,\n",
              "              gamma=None, gpu_id=None, grow_policy=None, importance_type=None,\n",
              "              interaction_constraints=None, learning_rate=0.0003, max_bin=None,\n",
              "              max_cat_threshold=None, max_cat_to_onehot=None,\n",
              "              max_delta_step=None, max_depth=8, max_leaves=None,\n",
              "              min_child_weight=None, missing=nan, monotone_constraints=None,\n",
              "              n_estimators=1000, n_jobs=None, num_parallel_tree=None,\n",
              "              predictor=None, random_state=None, ...)</pre></div></div></div></div></div>"
            ]
          },
          "metadata": {},
          "execution_count": 331
        }
      ]
    },
    {
      "cell_type": "markdown",
      "source": [
        "\n",
        "# Performance on train data\n",
        "\n",
        "## F1 score of 0.91 on train data"
      ],
      "metadata": {
        "id": "sMCLBUDf0ETz"
      }
    },
    {
      "cell_type": "code",
      "source": [
        "y_pred_train = classifier.predict(X_train)\n",
        "confusion_matrix(y_train, y_pred_train)"
      ],
      "metadata": {
        "colab": {
          "base_uri": "https://localhost:8080/"
        },
        "id": "wOpSbrsb0Ekd",
        "outputId": "870ec199-966d-4247-ca57-4cd11e7ae2b1"
      },
      "execution_count": 332,
      "outputs": [
        {
          "output_type": "execute_result",
          "data": {
            "text/plain": [
              "array([[16,  1],\n",
              "       [ 2, 53]])"
            ]
          },
          "metadata": {},
          "execution_count": 332
        }
      ]
    },
    {
      "cell_type": "markdown",
      "source": [
        "# Performance on test data\n",
        "## F1 score of 0.67 on test data"
      ],
      "metadata": {
        "id": "Bdh-VjQJ0E4m"
      }
    },
    {
      "cell_type": "code",
      "source": [
        "y_pred_test = classifier.predict(X_test)\n",
        "confusion_matrix(y_test, y_pred_test)"
      ],
      "metadata": {
        "colab": {
          "base_uri": "https://localhost:8080/"
        },
        "id": "CgXBcy6Lk_3K",
        "outputId": "51273ecf-f65a-4cf6-95ea-a9618160a17b"
      },
      "execution_count": 333,
      "outputs": [
        {
          "output_type": "execute_result",
          "data": {
            "text/plain": [
              "array([[1, 1],\n",
              "       [0, 6]])"
            ]
          },
          "metadata": {},
          "execution_count": 333
        }
      ]
    }
  ]
}